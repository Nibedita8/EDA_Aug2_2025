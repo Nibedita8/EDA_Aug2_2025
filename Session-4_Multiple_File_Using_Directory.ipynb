{
 "cells": [
  {
   "cell_type": "code",
   "execution_count": 1,
   "id": "6af6be93-771b-443c-bfe4-32dcfc69032e",
   "metadata": {},
   "outputs": [],
   "source": [
    "import pandas as pd\n",
    "import numpy as np\n",
    "import matplotlib.pyplot as plt\n",
    "import seaborn as sns"
   ]
  },
  {
   "cell_type": "code",
   "execution_count": 2,
   "id": "df59d0d6-810d-4091-8215-6485f0bd7590",
   "metadata": {},
   "outputs": [
    {
     "data": {
      "text/html": [
       "<div>\n",
       "<style scoped>\n",
       "    .dataframe tbody tr th:only-of-type {\n",
       "        vertical-align: middle;\n",
       "    }\n",
       "\n",
       "    .dataframe tbody tr th {\n",
       "        vertical-align: top;\n",
       "    }\n",
       "\n",
       "    .dataframe thead th {\n",
       "        text-align: right;\n",
       "    }\n",
       "</style>\n",
       "<table border=\"1\" class=\"dataframe\">\n",
       "  <thead>\n",
       "    <tr style=\"text-align: right;\">\n",
       "      <th></th>\n",
       "      <th>case_id</th>\n",
       "      <th>continent</th>\n",
       "      <th>education_of_employee</th>\n",
       "      <th>has_job_experience</th>\n",
       "      <th>requires_job_training</th>\n",
       "      <th>no_of_employees</th>\n",
       "      <th>yr_of_estab</th>\n",
       "      <th>region_of_employment</th>\n",
       "      <th>prevailing_wage</th>\n",
       "      <th>unit_of_wage</th>\n",
       "      <th>full_time_position</th>\n",
       "      <th>case_status</th>\n",
       "    </tr>\n",
       "  </thead>\n",
       "  <tbody>\n",
       "    <tr>\n",
       "      <th>0</th>\n",
       "      <td>EZYV01</td>\n",
       "      <td>Asia</td>\n",
       "      <td>High School</td>\n",
       "      <td>N</td>\n",
       "      <td>N</td>\n",
       "      <td>14513</td>\n",
       "      <td>2007</td>\n",
       "      <td>West</td>\n",
       "      <td>592.2029</td>\n",
       "      <td>Hour</td>\n",
       "      <td>Y</td>\n",
       "      <td>Denied</td>\n",
       "    </tr>\n",
       "    <tr>\n",
       "      <th>1</th>\n",
       "      <td>EZYV02</td>\n",
       "      <td>Asia</td>\n",
       "      <td>Master's</td>\n",
       "      <td>Y</td>\n",
       "      <td>N</td>\n",
       "      <td>2412</td>\n",
       "      <td>2002</td>\n",
       "      <td>Northeast</td>\n",
       "      <td>83425.6500</td>\n",
       "      <td>Year</td>\n",
       "      <td>Y</td>\n",
       "      <td>Certified</td>\n",
       "    </tr>\n",
       "    <tr>\n",
       "      <th>2</th>\n",
       "      <td>EZYV03</td>\n",
       "      <td>Asia</td>\n",
       "      <td>Bachelor's</td>\n",
       "      <td>N</td>\n",
       "      <td>Y</td>\n",
       "      <td>44444</td>\n",
       "      <td>2008</td>\n",
       "      <td>West</td>\n",
       "      <td>122996.8600</td>\n",
       "      <td>Year</td>\n",
       "      <td>Y</td>\n",
       "      <td>Denied</td>\n",
       "    </tr>\n",
       "    <tr>\n",
       "      <th>3</th>\n",
       "      <td>EZYV04</td>\n",
       "      <td>Asia</td>\n",
       "      <td>Bachelor's</td>\n",
       "      <td>N</td>\n",
       "      <td>N</td>\n",
       "      <td>98</td>\n",
       "      <td>1897</td>\n",
       "      <td>West</td>\n",
       "      <td>83434.0300</td>\n",
       "      <td>Year</td>\n",
       "      <td>Y</td>\n",
       "      <td>Denied</td>\n",
       "    </tr>\n",
       "    <tr>\n",
       "      <th>4</th>\n",
       "      <td>EZYV05</td>\n",
       "      <td>Africa</td>\n",
       "      <td>Master's</td>\n",
       "      <td>Y</td>\n",
       "      <td>N</td>\n",
       "      <td>1082</td>\n",
       "      <td>2005</td>\n",
       "      <td>South</td>\n",
       "      <td>149907.3900</td>\n",
       "      <td>Year</td>\n",
       "      <td>Y</td>\n",
       "      <td>Certified</td>\n",
       "    </tr>\n",
       "    <tr>\n",
       "      <th>...</th>\n",
       "      <td>...</td>\n",
       "      <td>...</td>\n",
       "      <td>...</td>\n",
       "      <td>...</td>\n",
       "      <td>...</td>\n",
       "      <td>...</td>\n",
       "      <td>...</td>\n",
       "      <td>...</td>\n",
       "      <td>...</td>\n",
       "      <td>...</td>\n",
       "      <td>...</td>\n",
       "      <td>...</td>\n",
       "    </tr>\n",
       "    <tr>\n",
       "      <th>25475</th>\n",
       "      <td>EZYV25476</td>\n",
       "      <td>Asia</td>\n",
       "      <td>Bachelor's</td>\n",
       "      <td>Y</td>\n",
       "      <td>Y</td>\n",
       "      <td>2601</td>\n",
       "      <td>2008</td>\n",
       "      <td>South</td>\n",
       "      <td>77092.5700</td>\n",
       "      <td>Year</td>\n",
       "      <td>Y</td>\n",
       "      <td>Certified</td>\n",
       "    </tr>\n",
       "    <tr>\n",
       "      <th>25476</th>\n",
       "      <td>EZYV25477</td>\n",
       "      <td>Asia</td>\n",
       "      <td>High School</td>\n",
       "      <td>Y</td>\n",
       "      <td>N</td>\n",
       "      <td>3274</td>\n",
       "      <td>2006</td>\n",
       "      <td>Northeast</td>\n",
       "      <td>279174.7900</td>\n",
       "      <td>Year</td>\n",
       "      <td>Y</td>\n",
       "      <td>Certified</td>\n",
       "    </tr>\n",
       "    <tr>\n",
       "      <th>25477</th>\n",
       "      <td>EZYV25478</td>\n",
       "      <td>Asia</td>\n",
       "      <td>Master's</td>\n",
       "      <td>Y</td>\n",
       "      <td>N</td>\n",
       "      <td>1121</td>\n",
       "      <td>1910</td>\n",
       "      <td>South</td>\n",
       "      <td>146298.8500</td>\n",
       "      <td>Year</td>\n",
       "      <td>N</td>\n",
       "      <td>Certified</td>\n",
       "    </tr>\n",
       "    <tr>\n",
       "      <th>25478</th>\n",
       "      <td>EZYV25479</td>\n",
       "      <td>Asia</td>\n",
       "      <td>Master's</td>\n",
       "      <td>Y</td>\n",
       "      <td>Y</td>\n",
       "      <td>1918</td>\n",
       "      <td>1887</td>\n",
       "      <td>West</td>\n",
       "      <td>86154.7700</td>\n",
       "      <td>Year</td>\n",
       "      <td>Y</td>\n",
       "      <td>Certified</td>\n",
       "    </tr>\n",
       "    <tr>\n",
       "      <th>25479</th>\n",
       "      <td>EZYV25480</td>\n",
       "      <td>Asia</td>\n",
       "      <td>Bachelor's</td>\n",
       "      <td>Y</td>\n",
       "      <td>N</td>\n",
       "      <td>3195</td>\n",
       "      <td>1960</td>\n",
       "      <td>Midwest</td>\n",
       "      <td>70876.9100</td>\n",
       "      <td>Year</td>\n",
       "      <td>Y</td>\n",
       "      <td>Certified</td>\n",
       "    </tr>\n",
       "  </tbody>\n",
       "</table>\n",
       "<p>25480 rows × 12 columns</p>\n",
       "</div>"
      ],
      "text/plain": [
       "         case_id continent education_of_employee has_job_experience  \\\n",
       "0         EZYV01      Asia           High School                  N   \n",
       "1         EZYV02      Asia              Master's                  Y   \n",
       "2         EZYV03      Asia            Bachelor's                  N   \n",
       "3         EZYV04      Asia            Bachelor's                  N   \n",
       "4         EZYV05    Africa              Master's                  Y   \n",
       "...          ...       ...                   ...                ...   \n",
       "25475  EZYV25476      Asia            Bachelor's                  Y   \n",
       "25476  EZYV25477      Asia           High School                  Y   \n",
       "25477  EZYV25478      Asia              Master's                  Y   \n",
       "25478  EZYV25479      Asia              Master's                  Y   \n",
       "25479  EZYV25480      Asia            Bachelor's                  Y   \n",
       "\n",
       "      requires_job_training  no_of_employees  yr_of_estab  \\\n",
       "0                         N            14513         2007   \n",
       "1                         N             2412         2002   \n",
       "2                         Y            44444         2008   \n",
       "3                         N               98         1897   \n",
       "4                         N             1082         2005   \n",
       "...                     ...              ...          ...   \n",
       "25475                     Y             2601         2008   \n",
       "25476                     N             3274         2006   \n",
       "25477                     N             1121         1910   \n",
       "25478                     Y             1918         1887   \n",
       "25479                     N             3195         1960   \n",
       "\n",
       "      region_of_employment  prevailing_wage unit_of_wage full_time_position  \\\n",
       "0                     West         592.2029         Hour                  Y   \n",
       "1                Northeast       83425.6500         Year                  Y   \n",
       "2                     West      122996.8600         Year                  Y   \n",
       "3                     West       83434.0300         Year                  Y   \n",
       "4                    South      149907.3900         Year                  Y   \n",
       "...                    ...              ...          ...                ...   \n",
       "25475                South       77092.5700         Year                  Y   \n",
       "25476            Northeast      279174.7900         Year                  Y   \n",
       "25477                South      146298.8500         Year                  N   \n",
       "25478                 West       86154.7700         Year                  Y   \n",
       "25479              Midwest       70876.9100         Year                  Y   \n",
       "\n",
       "      case_status  \n",
       "0          Denied  \n",
       "1       Certified  \n",
       "2          Denied  \n",
       "3          Denied  \n",
       "4       Certified  \n",
       "...           ...  \n",
       "25475   Certified  \n",
       "25476   Certified  \n",
       "25477   Certified  \n",
       "25478   Certified  \n",
       "25479   Certified  \n",
       "\n",
       "[25480 rows x 12 columns]"
      ]
     },
     "execution_count": 2,
     "metadata": {},
     "output_type": "execute_result"
    }
   ],
   "source": [
    "file_path=r\"C:\\Users\\HP\\Documents\\Python\\NareshIT\\Visadataset.csv\"\n",
    "visa_df=pd.read_csv(file_path)\n",
    "visa_df"
   ]
  },
  {
   "cell_type": "code",
   "execution_count": 3,
   "id": "2f51c32b-c280-4511-8ba5-38cdba3e562e",
   "metadata": {},
   "outputs": [
    {
     "data": {
      "text/plain": [
       "Index(['case_id', 'continent', 'education_of_employee', 'has_job_experience',\n",
       "       'requires_job_training', 'no_of_employees', 'yr_of_estab',\n",
       "       'region_of_employment', 'prevailing_wage', 'unit_of_wage',\n",
       "       'full_time_position', 'case_status'],\n",
       "      dtype='object')"
      ]
     },
     "execution_count": 3,
     "metadata": {},
     "output_type": "execute_result"
    }
   ],
   "source": [
    "visa_df.columns"
   ]
  },
  {
   "cell_type": "code",
   "execution_count": 4,
   "id": "ddc460d4-8d22-4ad0-82a5-590aafad5870",
   "metadata": {},
   "outputs": [],
   "source": [
    "cat=visa_df.select_dtypes(include='object').columns #categorical column\n",
    "num=visa_df.select_dtypes(exclude='object').columns # numerical column"
   ]
  },
  {
   "cell_type": "code",
   "execution_count": 5,
   "id": "cfcc2bc1-65cd-4860-a4b3-7aa77db20dc2",
   "metadata": {},
   "outputs": [],
   "source": [
    "keys=visa_df['continent'].value_counts().keys() # keys of continent column\n",
    "values=visa_df['continent'].value_counts().values # values of continent column"
   ]
  },
  {
   "cell_type": "code",
   "execution_count": 6,
   "id": "4e3bc0fc-d3ae-47fc-a33f-6a39d67bd701",
   "metadata": {},
   "outputs": [
    {
     "data": {
      "text/plain": [
       "Index(['Asia', 'Europe', 'North America', 'South America', 'Africa',\n",
       "       'Oceania'],\n",
       "      dtype='object', name='continent')"
      ]
     },
     "execution_count": 6,
     "metadata": {},
     "output_type": "execute_result"
    }
   ],
   "source": [
    "keys"
   ]
  },
  {
   "cell_type": "code",
   "execution_count": 7,
   "id": "9cfe0492-57d7-47b8-b98d-34c5761d46f8",
   "metadata": {},
   "outputs": [
    {
     "data": {
      "text/plain": [
       "array([16861,  3732,  3292,   852,   551,   192], dtype=int64)"
      ]
     },
     "execution_count": 7,
     "metadata": {},
     "output_type": "execute_result"
    }
   ],
   "source": [
    "values"
   ]
  },
  {
   "cell_type": "code",
   "execution_count": 8,
   "id": "abd60db0-7984-4ff4-ab14-0c8e95087edb",
   "metadata": {},
   "outputs": [],
   "source": [
    "df=pd.DataFrame(zip(keys,values),columns=['Continent_Names','Number_Of_persons'])\n",
    "df.to_csv(\"continent_df.csv\")"
   ]
  },
  {
   "cell_type": "code",
   "execution_count": 9,
   "id": "e110b65a-15fb-4584-a318-8e68321485ba",
   "metadata": {},
   "outputs": [
    {
     "data": {
      "text/html": [
       "<div>\n",
       "<style scoped>\n",
       "    .dataframe tbody tr th:only-of-type {\n",
       "        vertical-align: middle;\n",
       "    }\n",
       "\n",
       "    .dataframe tbody tr th {\n",
       "        vertical-align: top;\n",
       "    }\n",
       "\n",
       "    .dataframe thead th {\n",
       "        text-align: right;\n",
       "    }\n",
       "</style>\n",
       "<table border=\"1\" class=\"dataframe\">\n",
       "  <thead>\n",
       "    <tr style=\"text-align: right;\">\n",
       "      <th></th>\n",
       "      <th>Continent_Names</th>\n",
       "      <th>Number_Of_persons</th>\n",
       "    </tr>\n",
       "  </thead>\n",
       "  <tbody>\n",
       "    <tr>\n",
       "      <th>0</th>\n",
       "      <td>Asia</td>\n",
       "      <td>16861</td>\n",
       "    </tr>\n",
       "    <tr>\n",
       "      <th>1</th>\n",
       "      <td>Europe</td>\n",
       "      <td>3732</td>\n",
       "    </tr>\n",
       "    <tr>\n",
       "      <th>2</th>\n",
       "      <td>North America</td>\n",
       "      <td>3292</td>\n",
       "    </tr>\n",
       "    <tr>\n",
       "      <th>3</th>\n",
       "      <td>South America</td>\n",
       "      <td>852</td>\n",
       "    </tr>\n",
       "    <tr>\n",
       "      <th>4</th>\n",
       "      <td>Africa</td>\n",
       "      <td>551</td>\n",
       "    </tr>\n",
       "    <tr>\n",
       "      <th>5</th>\n",
       "      <td>Oceania</td>\n",
       "      <td>192</td>\n",
       "    </tr>\n",
       "  </tbody>\n",
       "</table>\n",
       "</div>"
      ],
      "text/plain": [
       "  Continent_Names  Number_Of_persons\n",
       "0            Asia              16861\n",
       "1          Europe               3732\n",
       "2   North America               3292\n",
       "3   South America                852\n",
       "4          Africa                551\n",
       "5         Oceania                192"
      ]
     },
     "execution_count": 9,
     "metadata": {},
     "output_type": "execute_result"
    }
   ],
   "source": [
    "df"
   ]
  },
  {
   "cell_type": "markdown",
   "id": "19658033-9c89-4868-be4d-7fa4833b18b6",
   "metadata": {},
   "source": [
    "**Create a new folder**\n",
    "\n",
    "- i want to save in a folder that folder avialabel in python location location\n"
   ]
  },
  {
   "cell_type": "code",
   "execution_count": 10,
   "id": "45a9d891-836a-402e-8446-34db21f904d4",
   "metadata": {},
   "outputs": [
    {
     "name": "stdout",
     "output_type": "stream",
     "text": [
      "[WinError 183] Cannot create a file when that file already exists: 'frequency_tables'\n"
     ]
    }
   ],
   "source": [
    "import os\n",
    "new_folder_name='frequency_tables'\n",
    "try:\n",
    "    os.makedirs(new_folder_name)\n",
    "except Exception as e:\n",
    "    print(e)"
   ]
  },
  {
   "cell_type": "markdown",
   "id": "ed1da610-c214-4b7b-aa27-aaaf0d1acec3",
   "metadata": {},
   "source": [
    "\n",
    "- if there is a folder existed in the name you created a new folder then an error will raise."
   ]
  },
  {
   "cell_type": "code",
   "execution_count": 11,
   "id": "915011da-767e-4820-95fe-a9b8d06bae87",
   "metadata": {},
   "outputs": [],
   "source": [
    "visa_df['continent'].value_counts()\n",
    "keys=visa_df['continent'].value_counts().keys()\n",
    "values=visa_df['continent'].value_counts().values\n",
    "df=pd.DataFrame(zip(keys,values),columns=['Continent_Names','Number_Of_persons'])\n",
    "visa_df.to_csv(r\"C:\\Users\\HP\\Documents\\Python\\NareshIT\\EDA\\Pandas\\frequency_tables\\continent_df.csv\")"
   ]
  },
  {
   "cell_type": "code",
   "execution_count": 12,
   "id": "140314fb-79cb-4e57-947f-eaf569311a17",
   "metadata": {},
   "outputs": [],
   "source": [
    "import os\n",
    "\n",
    "folder = r'C:\\Users\\HP\\Documents\\Python\\NareshIT\\EDA\\Pandas\\frequency_tables'\n",
    "os.makedirs(folder, exist_ok=True)  # Creates the folder if it doesn't exist\n",
    "\n",
    "\n",
    "# Now you can save the file\n",
    "df.to_csv(os.path.join(folder, 'continent_df.csv'))"
   ]
  },
  {
   "cell_type": "code",
   "execution_count": null,
   "id": "7776a92b-b3a0-4686-af3f-5b1ac7148eed",
   "metadata": {},
   "outputs": [],
   "source": [
    "\"C:\\Users\\HP\\Documents\\Python\\NareshIT\\EdA\\EDA\\\n",
    "frequency_tables\\\n",
    "continent_df.csv\""
   ]
  },
  {
   "cell_type": "code",
   "execution_count": 13,
   "id": "6ab1d51a-09a2-474f-baa7-cc1f56bba21f",
   "metadata": {},
   "outputs": [
    {
     "data": {
      "text/plain": [
       "'C:\\\\Users\\\\HP\\\\Documents\\\\Python\\\\NareshIT\\\\EDA\\\\Pandas'"
      ]
     },
     "execution_count": 13,
     "metadata": {},
     "output_type": "execute_result"
    }
   ],
   "source": [
    "os.getcwd()"
   ]
  },
  {
   "cell_type": "code",
   "execution_count": 14,
   "id": "df8f678f-ea73-48c4-90e1-9bf9963e8c9c",
   "metadata": {},
   "outputs": [
    {
     "data": {
      "text/plain": [
       "'C:\\\\Users\\\\HP\\\\Documents\\\\Python\\\\NareshIT\\\\EDA\\\\Pandas\\\\frequency_tables'"
      ]
     },
     "execution_count": 14,
     "metadata": {},
     "output_type": "execute_result"
    }
   ],
   "source": [
    "os.getcwd()+'\\\\'+new_folder_name  # \"\\\\\" wrong way"
   ]
  },
  {
   "cell_type": "code",
   "execution_count": 15,
   "id": "2845b59e-7145-4e93-b49e-59365e0b7a91",
   "metadata": {},
   "outputs": [],
   "source": [
    "cwd=os.getcwd()"
   ]
  },
  {
   "cell_type": "code",
   "execution_count": 16,
   "id": "f22c18b5-a7fa-4254-8088-bfccf5bf5fde",
   "metadata": {},
   "outputs": [
    {
     "data": {
      "text/plain": [
       "'C:\\\\Users\\\\HP\\\\Documents\\\\Python\\\\NareshIT\\\\EDA\\\\Pandas\\\\frequency_tables'"
      ]
     },
     "execution_count": 16,
     "metadata": {},
     "output_type": "execute_result"
    }
   ],
   "source": [
    "os.path.join(cwd,new_folder_name) # right way to join paths"
   ]
  },
  {
   "cell_type": "code",
   "execution_count": 17,
   "id": "c309d479-0dbe-4abc-a120-279574edbef4",
   "metadata": {},
   "outputs": [
    {
     "data": {
      "text/plain": [
       "'C:\\\\Users\\\\HP\\\\Documents\\\\Python\\\\NareshIT\\\\EDA\\\\Pandas\\\\frequency_tables\\\\continent.csv'"
      ]
     },
     "execution_count": 17,
     "metadata": {},
     "output_type": "execute_result"
    }
   ],
   "source": [
    "cwd=os.getcwd()\n",
    "new_dir=os.path.join(cwd,new_folder_name)\n",
    "file_name='continent.csv'\n",
    "new_path=os.path.join(new_dir,file_name) # path\n",
    "new_path"
   ]
  },
  {
   "cell_type": "code",
   "execution_count": 18,
   "id": "bf445bda-cc79-4631-bc39-2eb3a9f374f9",
   "metadata": {},
   "outputs": [],
   "source": [
    "df.to_csv(new_path)"
   ]
  },
  {
   "cell_type": "code",
   "execution_count": 19,
   "id": "924dfc7d-aa70-4820-8acc-ee3c7525e9c6",
   "metadata": {},
   "outputs": [
    {
     "name": "stdout",
     "output_type": "stream",
     "text": [
      "[WinError 183] Cannot create a file when that file already exists: 'frequency_tables'\n"
     ]
    },
    {
     "data": {
      "text/plain": [
       "'C:\\\\Users\\\\HP\\\\Documents\\\\Python\\\\NareshIT\\\\EDA\\\\Pandas\\\\frequency_tables\\\\continent.csv'"
      ]
     },
     "execution_count": 19,
     "metadata": {},
     "output_type": "execute_result"
    }
   ],
   "source": [
    "import os\n",
    "new_folder_name='frequency_tables'\n",
    "try:\n",
    "    os.makedirs(new_folder_name)\n",
    "except Exception as e:\n",
    "    print(e)\n",
    "\n",
    "cwd=os.getcwd()\n",
    "new_dir=os.path.join(cwd,new_folder_name)\n",
    "file_name='continent.csv'\n",
    "new_path=os.path.join(new_dir,file_name) # path\n",
    "new_path"
   ]
  },
  {
   "cell_type": "code",
   "execution_count": 20,
   "id": "b8c39ff1-5586-47ae-abf8-5fa34f365eaa",
   "metadata": {},
   "outputs": [],
   "source": [
    "cwd=os.getcwd()\n",
    "new_dir=os.path.join(cwd,new_folder_name)\n",
    "####################################################################\n",
    "visa_df['continent'].value_counts()\n",
    "keys=visa_df['continent'].value_counts().keys()\n",
    "values=visa_df['continent'].value_counts().values\n",
    "df=pd.DataFrame(zip(keys,values),\n",
    "columns=['Count','Number of Applicants'])\n",
    "#####################################################################\n",
    "file_name='continent.csv'\n",
    "new_path=os.path.join(new_dir,file_name) # path\n",
    "df.to_csv(new_path)"
   ]
  },
  {
   "cell_type": "markdown",
   "id": "fdd302ff-9a0d-4ac5-8b0d-522a62b0685f",
   "metadata": {},
   "source": [
    "# storing all column's frquency table in a folder"
   ]
  },
  {
   "cell_type": "code",
   "execution_count": 21,
   "id": "727f60e8-1b58-41f4-a00c-3567a3640b4a",
   "metadata": {},
   "outputs": [],
   "source": [
    "cwd=os.getcwd()\n",
    "new_dir=os.path.join(cwd,new_folder_name)\n",
    "############################################################################\n",
    "for i in cat[1:]:\n",
    "    keys=visa_df[i].value_counts(normalize=True).keys()\n",
    "    values=visa_df[i].value_counts(normalize=True).values\n",
    "    df=pd.DataFrame(zip(keys,values),columns=['Counts','Number_Of_Applicants'])\n",
    "#####################################################################################\n",
    "    file_name=f'{i}_df.csv'\n",
    "    new_path=os.path.join(new_dir,file_name)\n",
    "    df.to_csv(new_path)"
   ]
  },
  {
   "cell_type": "markdown",
   "id": "b8b220cb-ce3b-40cd-8de1-360b75f66225",
   "metadata": {},
   "source": [
    "# 01 July 2025"
   ]
  },
  {
   "cell_type": "markdown",
   "id": "62038473-7b83-4229-b9e0-a1c889835743",
   "metadata": {},
   "source": [
    "**uploading bar charts**"
   ]
  },
  {
   "cell_type": "code",
   "execution_count": 22,
   "id": "037cdbf6-08de-4e2d-b388-ca94f2906a48",
   "metadata": {},
   "outputs": [
    {
     "data": {
      "image/png": "[encoded data removed]",
      "text/plain": [
       "<Figure size 1000x800 with 1 Axes>"
      ]
     },
     "metadata": {},
     "output_type": "display_data"
    }
   ],
   "source": [
    "keys=visa_df['continent'].value_counts().keys()\n",
    "values=visa_df['continent'].value_counts().values\n",
    "plt.figure(figsize=(10,8))\n",
    "plt.bar(keys,values)\n",
    "plt.savefig('continent_bar.jpg')"
   ]
  },
  {
   "cell_type": "code",
   "execution_count": 23,
   "id": "081ec570-375a-4538-9c70-9c2222d88b27",
   "metadata": {},
   "outputs": [
    {
     "data": {
      "text/plain": [
       "Index(['case_id', 'continent', 'education_of_employee', 'has_job_experience',\n",
       "       'requires_job_training', 'no_of_employees', 'yr_of_estab',\n",
       "       'region_of_employment', 'prevailing_wage', 'unit_of_wage',\n",
       "       'full_time_position', 'case_status'],\n",
       "      dtype='object')"
      ]
     },
     "execution_count": 23,
     "metadata": {},
     "output_type": "execute_result"
    }
   ],
   "source": [
    "visa_df.columns"
   ]
  },
  {
   "cell_type": "markdown",
   "id": "2c8bc141-a413-469b-b3e9-62e8e3470215",
   "metadata": {},
   "source": [
    "# storing all column's bar chart in a folder"
   ]
  },
  {
   "cell_type": "code",
   "execution_count": 24,
   "id": "9c8fcaee-5bef-4d27-8feb-88b160fe78e2",
   "metadata": {},
   "outputs": [
    {
     "name": "stdout",
     "output_type": "stream",
     "text": [
      "[WinError 183] Cannot create a file when that file already exists: 'bar_charts'\n"
     ]
    }
   ],
   "source": [
    "import os\n",
    "folder_name=\"bar_charts\"\n",
    "try:\n",
    "    os.makedirs(folder_name)\n",
    "except Exception as e:\n",
    "    print(e)\n",
    "\n",
    "cwd=os.getcwd()\n",
    "new_dir=os.path.join(cwd,folder_name)\n",
    "\n",
    "for i in cat[1:]:  # columns in dataframe\n",
    "    \n",
    "    keys=visa_df[i].value_counts().keys()  # pick keys from a specific column\n",
    "    values=visa_df[i].value_counts().values   # pick values from that column associated with keys\n",
    "    file_name=f'{i}_bar.jpg'      # define new file names for the bar chart of that column\n",
    "    path=os.path.join(new_dir,file_name)  # join the new directory (cuurent directory and new folder name) and new file name. \n",
    "    plt.figure(figsize=(30,15))\n",
    "    plt.bar(keys,values)  # draw the bar chart for each column\n",
    "    plt.savefig(path)  # save the figure with file direction.\n",
    "\n",
    "        # Close the figure to prevent overlap\n",
    "    plt.close()"
   ]
  },
  {
   "cell_type": "markdown",
   "id": "24ef3105-c197-42ef-b61a-b1207abc3104",
   "metadata": {},
   "source": [
    "# storing all column's pie chart in a folder"
   ]
  },
  {
   "cell_type": "code",
   "execution_count": 25,
   "id": "c6c37306-c4dc-4f99-8f40-60cdfe62bdab",
   "metadata": {},
   "outputs": [
    {
     "name": "stdout",
     "output_type": "stream",
     "text": [
      "[WinError 183] Cannot create a file when that file already exists: 'pie_charts'\n"
     ]
    }
   ],
   "source": [
    "cd=os.getcwd()\n",
    "import os\n",
    "folder_name=\"pie_charts\"\n",
    "\n",
    "try:\n",
    "    os.makedirs(folder_name)\n",
    "except Exception as e:\n",
    "    print(e)\n",
    "\n",
    "newdir=os.path.join(cd,folder_name)\n",
    "\n",
    "for i in range(1,len(cat[:])):\n",
    "    keys=visa_df[cat[i]].value_counts(normalize=True).keys()\n",
    "    values=visa_df[cat[i]].value_counts(normalize=True).values\n",
    "    plt.figure(figsize=(30,15))\n",
    "    \n",
    "    # plt.subplot(3,3,i).\n",
    "    plt.pie(values,\n",
    "            labels=keys,\n",
    "           autopct=\"%0.2f%%\",\n",
    "           explode=[0.03 for i in range(len(keys))],\n",
    "           startangle=90,\n",
    "           shadow=False,\n",
    "           radius=1)\n",
    "    filename=f'{cat[i]}_pie.jpg'\n",
    "    newpath=os.path.join(newdir,filename)\n",
    "    plt.savefig(newpath)\n",
    "    plt.close()"
   ]
  },
  {
   "cell_type": "code",
   "execution_count": null,
   "id": "d9c47f11-f09e-482c-b36d-98776efc38fd",
   "metadata": {},
   "outputs": [],
   "source": []
  }
 ],
 "metadata": {
  "kernelspec": {
   "display_name": "Python 3 (ipykernel)",
   "language": "python",
   "name": "python3"
  },
  "language_info": {
   "codemirror_mode": {
    "name": "ipython",
    "version": 3
   },
   "file_extension": ".py",
   "mimetype": "text/x-python",
   "name": "python",
   "nbconvert_exporter": "python",
   "pygments_lexer": "ipython3",
   "version": "3.12.7"
  }
 },
 "nbformat": 4,
 "nbformat_minor": 5
}
